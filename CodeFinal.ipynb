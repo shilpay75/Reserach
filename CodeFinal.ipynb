{
  "nbformat": 4,
  "nbformat_minor": 0,
  "metadata": {
    "colab": {
      "name": "CodeFinal.ipynb",
      "provenance": [],
      "collapsed_sections": []
    },
    "kernelspec": {
      "name": "python3",
      "display_name": "Python 3"
    }
  },
  "cells": [
    {
      "cell_type": "code",
      "metadata": {
        "id": "to5H5OFAw_sy",
        "colab_type": "code",
        "colab": {
          "base_uri": "https://localhost:8080/",
          "height": 84
        },
        "outputId": "ad8dc56f-01f6-4350-c6ea-ed21ce55f93d"
      },
      "source": [
        "import pandas as pd\n",
        "import string\n",
        "import nltk\n",
        "nltk.download('punkt')\n",
        "nltk.download('stopwords')\n",
        "import itertools\n",
        "import numpy as np\n",
        "from nltk.corpus import stopwords\n"
      ],
      "execution_count": null,
      "outputs": [
        {
          "output_type": "stream",
          "text": [
            "[nltk_data] Downloading package punkt to /root/nltk_data...\n",
            "[nltk_data]   Package punkt is already up-to-date!\n",
            "[nltk_data] Downloading package stopwords to /root/nltk_data...\n",
            "[nltk_data]   Package stopwords is already up-to-date!\n"
          ],
          "name": "stdout"
        }
      ]
    },
    {
      "cell_type": "code",
      "metadata": {
        "id": "ycQgrK-pAjBv",
        "colab_type": "code",
        "colab": {
          "base_uri": "https://localhost:8080/",
          "height": 212
        },
        "outputId": "bf01350d-9da1-4d37-941f-e9132d435e15"
      },
      "source": [
        "#load data\n",
        "DATA_PATH1 = '/content/drive/My Drive/Colab Notebooks/chromium.csv'\n",
        "data1 = pd.read_csv(DATA_PATH1, sep='\\t')\n",
        "data_top1 = data1.head()\n",
        "print(\"Chromium Data\")\n",
        "data_top1"
      ],
      "execution_count": null,
      "outputs": [
        {
          "output_type": "stream",
          "text": [
            "Chromium Data\n"
          ],
          "name": "stdout"
        },
        {
          "output_type": "execute_result",
          "data": {
            "text/html": [
              "<div>\n",
              "<style scoped>\n",
              "    .dataframe tbody tr th:only-of-type {\n",
              "        vertical-align: middle;\n",
              "    }\n",
              "\n",
              "    .dataframe tbody tr th {\n",
              "        vertical-align: top;\n",
              "    }\n",
              "\n",
              "    .dataframe thead th {\n",
              "        text-align: right;\n",
              "    }\n",
              "</style>\n",
              "<table border=\"1\" class=\"dataframe\">\n",
              "  <thead>\n",
              "    <tr style=\"text-align: right;\">\n",
              "      <th></th>\n",
              "      <th>title</th>\n",
              "      <th>description</th>\n",
              "      <th>type</th>\n",
              "    </tr>\n",
              "  </thead>\n",
              "  <tbody>\n",
              "    <tr>\n",
              "      <th>0</th>\n",
              "      <td>Define a way to enforce performance constraint...</td>\n",
              "      <td>\\nThere are cases where tests should fail if a...</td>\n",
              "      <td>Bug</td>\n",
              "    </tr>\n",
              "    <tr>\n",
              "      <th>1</th>\n",
              "      <td>Websites that don't work with Chrome Browser</td>\n",
              "      <td>\\nChrome Version       : 3.0.195.10\\r\\nURLs (i...</td>\n",
              "      <td>Compat</td>\n",
              "    </tr>\n",
              "    <tr>\n",
              "      <th>2</th>\n",
              "      <td>Redraw issue/truncation with confirmation item...</td>\n",
              "      <td>\\nChromium 0.3.155.0 (Developer Build 3546)\\r\\...</td>\n",
              "      <td>Bug</td>\n",
              "    </tr>\n",
              "    <tr>\n",
              "      <th>3</th>\n",
              "      <td>Implement CanvasRenderingContext2D for access ...</td>\n",
              "      <td>\\nApplications that do background image proces...</td>\n",
              "      <td>Feature</td>\n",
              "    </tr>\n",
              "    <tr>\n",
              "      <th>4</th>\n",
              "      <td>ath9k: panic in ath_tx_last_beacon + 0x29a</td>\n",
              "      <td>\\nToT (3.0 kernel) panic'd on resume.  Was ass...</td>\n",
              "      <td>Bug</td>\n",
              "    </tr>\n",
              "  </tbody>\n",
              "</table>\n",
              "</div>"
            ],
            "text/plain": [
              "                                               title  ...     type\n",
              "0  Define a way to enforce performance constraint...  ...      Bug\n",
              "1       Websites that don't work with Chrome Browser  ...   Compat\n",
              "2  Redraw issue/truncation with confirmation item...  ...      Bug\n",
              "3  Implement CanvasRenderingContext2D for access ...  ...  Feature\n",
              "4         ath9k: panic in ath_tx_last_beacon + 0x29a  ...      Bug\n",
              "\n",
              "[5 rows x 3 columns]"
            ]
          },
          "metadata": {
            "tags": []
          },
          "execution_count": 43
        }
      ]
    },
    {
      "cell_type": "code",
      "metadata": {
        "id": "CtUix8uvznPl",
        "colab_type": "code",
        "colab": {
          "base_uri": "https://localhost:8080/",
          "height": 212
        },
        "outputId": "76097ac9-9fb6-40cb-ed65-65d3419cf0bc"
      },
      "source": [
        "DATA_PATH2 = '/content/drive/My Drive/Colab Notebooks/linux_bugs_usage_ready.csv'\n",
        "data2 = pd.read_csv(DATA_PATH2, sep='\\t')\n",
        "data_top2 = data2.head()\n",
        "print(\"Linux Data\")\n",
        "data_top2"
      ],
      "execution_count": null,
      "outputs": [
        {
          "output_type": "stream",
          "text": [
            "Linux Data\n"
          ],
          "name": "stdout"
        },
        {
          "output_type": "execute_result",
          "data": {
            "text/html": [
              "<div>\n",
              "<style scoped>\n",
              "    .dataframe tbody tr th:only-of-type {\n",
              "        vertical-align: middle;\n",
              "    }\n",
              "\n",
              "    .dataframe tbody tr th {\n",
              "        vertical-align: top;\n",
              "    }\n",
              "\n",
              "    .dataframe thead th {\n",
              "        text-align: right;\n",
              "    }\n",
              "</style>\n",
              "<table border=\"1\" class=\"dataframe\">\n",
              "  <thead>\n",
              "    <tr style=\"text-align: right;\">\n",
              "      <th></th>\n",
              "      <th>title</th>\n",
              "      <th>message</th>\n",
              "      <th>importance</th>\n",
              "      <th>product</th>\n",
              "      <th>component</th>\n",
              "    </tr>\n",
              "  </thead>\n",
              "  <tbody>\n",
              "    <tr>\n",
              "      <th>0</th>\n",
              "      <td>oops when using ide-cd with 2.5.45 and cdrecord</td>\n",
              "      <td>Please enter Exact Kernel version:2.5.45 Distr...</td>\n",
              "      <td>P2 normal</td>\n",
              "      <td>IO/Storage</td>\n",
              "      <td>IDE</td>\n",
              "    </tr>\n",
              "    <tr>\n",
              "      <th>1</th>\n",
              "      <td>NUMA-Q hangs during TSC initialization on boot.</td>\n",
              "      <td>Exact Kernel version: 2.5.46 Distribution: deb...</td>\n",
              "      <td>P2 normal</td>\n",
              "      <td>Platform Specific/Hardware</td>\n",
              "      <td>i386</td>\n",
              "    </tr>\n",
              "    <tr>\n",
              "      <th>2</th>\n",
              "      <td>Enabling shared pagetables causes KDE to wierd...</td>\n",
              "      <td>Exact Kernel version: 2.5.46-mm1 Distribution:...</td>\n",
              "      <td>P2 normal</td>\n",
              "      <td>Memory Management</td>\n",
              "      <td>Other</td>\n",
              "    </tr>\n",
              "    <tr>\n",
              "      <th>3</th>\n",
              "      <td>Dcache spirals out of control on 2.5.43-mm2</td>\n",
              "      <td>Exact Kernel version: 2.5.43-mm2 Distribution:...</td>\n",
              "      <td>P2 blocking</td>\n",
              "      <td>IO/Storage</td>\n",
              "      <td>Other</td>\n",
              "    </tr>\n",
              "    <tr>\n",
              "      <th>4</th>\n",
              "      <td>64GB highmem BUG()</td>\n",
              "      <td>Exact Kernel version: 2.5.40 Hardware Environm...</td>\n",
              "      <td>P2 normal</td>\n",
              "      <td>Memory Management</td>\n",
              "      <td>Other</td>\n",
              "    </tr>\n",
              "  </tbody>\n",
              "</table>\n",
              "</div>"
            ],
            "text/plain": [
              "                                               title  ... component\n",
              "0    oops when using ide-cd with 2.5.45 and cdrecord  ...       IDE\n",
              "1    NUMA-Q hangs during TSC initialization on boot.  ...      i386\n",
              "2  Enabling shared pagetables causes KDE to wierd...  ...     Other\n",
              "3        Dcache spirals out of control on 2.5.43-mm2  ...     Other\n",
              "4                                 64GB highmem BUG()  ...     Other\n",
              "\n",
              "[5 rows x 5 columns]"
            ]
          },
          "metadata": {
            "tags": []
          },
          "execution_count": 44
        }
      ]
    },
    {
      "cell_type": "code",
      "metadata": {
        "id": "JOMKgPhXy8NI",
        "colab_type": "code",
        "colab": {
          "base_uri": "https://localhost:8080/",
          "height": 212
        },
        "outputId": "3f8d6b12-340b-478d-c10e-00cef733c850"
      },
      "source": [
        "#merge title and message\n",
        "def merge_title_and_message(data, message_col_name='message'):\n",
        "  data['text'] = data['title'] + ' ' + data[message_col_name]\n",
        "  data = data.drop(['title'], axis=1)\n",
        "  data = data.drop([message_col_name], axis=1)\n",
        "  return data\n",
        "data1 = merge_title_and_message(data1, message_col_name='description')\n",
        "data_top1 = data1.head()\n",
        "print(\"Chromium Merge Title and Message Data\")\n",
        "data_top1"
      ],
      "execution_count": null,
      "outputs": [
        {
          "output_type": "stream",
          "text": [
            "Chromium Merge Title and Message Data\n"
          ],
          "name": "stdout"
        },
        {
          "output_type": "execute_result",
          "data": {
            "text/html": [
              "<div>\n",
              "<style scoped>\n",
              "    .dataframe tbody tr th:only-of-type {\n",
              "        vertical-align: middle;\n",
              "    }\n",
              "\n",
              "    .dataframe tbody tr th {\n",
              "        vertical-align: top;\n",
              "    }\n",
              "\n",
              "    .dataframe thead th {\n",
              "        text-align: right;\n",
              "    }\n",
              "</style>\n",
              "<table border=\"1\" class=\"dataframe\">\n",
              "  <thead>\n",
              "    <tr style=\"text-align: right;\">\n",
              "      <th></th>\n",
              "      <th>type</th>\n",
              "      <th>text</th>\n",
              "    </tr>\n",
              "  </thead>\n",
              "  <tbody>\n",
              "    <tr>\n",
              "      <th>0</th>\n",
              "      <td>Bug</td>\n",
              "      <td>Define a way to enforce performance constraint...</td>\n",
              "    </tr>\n",
              "    <tr>\n",
              "      <th>1</th>\n",
              "      <td>Compat</td>\n",
              "      <td>Websites that don't work with Chrome Browser \\...</td>\n",
              "    </tr>\n",
              "    <tr>\n",
              "      <th>2</th>\n",
              "      <td>Bug</td>\n",
              "      <td>Redraw issue/truncation with confirmation item...</td>\n",
              "    </tr>\n",
              "    <tr>\n",
              "      <th>3</th>\n",
              "      <td>Feature</td>\n",
              "      <td>Implement CanvasRenderingContext2D for access ...</td>\n",
              "    </tr>\n",
              "    <tr>\n",
              "      <th>4</th>\n",
              "      <td>Bug</td>\n",
              "      <td>ath9k: panic in ath_tx_last_beacon + 0x29a \\nT...</td>\n",
              "    </tr>\n",
              "  </tbody>\n",
              "</table>\n",
              "</div>"
            ],
            "text/plain": [
              "      type                                               text\n",
              "0      Bug  Define a way to enforce performance constraint...\n",
              "1   Compat  Websites that don't work with Chrome Browser \\...\n",
              "2      Bug  Redraw issue/truncation with confirmation item...\n",
              "3  Feature  Implement CanvasRenderingContext2D for access ...\n",
              "4      Bug  ath9k: panic in ath_tx_last_beacon + 0x29a \\nT..."
            ]
          },
          "metadata": {
            "tags": []
          },
          "execution_count": 45
        }
      ]
    },
    {
      "cell_type": "code",
      "metadata": {
        "id": "GbcMekOw0Hkj",
        "colab_type": "code",
        "colab": {
          "base_uri": "https://localhost:8080/",
          "height": 212
        },
        "outputId": "80cc5b21-b007-4c36-9076-125f670a19c4"
      },
      "source": [
        "data2 = merge_title_and_message(data2)\n",
        "data_top2 = data2.head()\n",
        "print(\"Linux Merge Title and Message Data\")\n",
        "data_top2"
      ],
      "execution_count": null,
      "outputs": [
        {
          "output_type": "stream",
          "text": [
            "Linux Merge Title and Message Data\n"
          ],
          "name": "stdout"
        },
        {
          "output_type": "execute_result",
          "data": {
            "text/html": [
              "<div>\n",
              "<style scoped>\n",
              "    .dataframe tbody tr th:only-of-type {\n",
              "        vertical-align: middle;\n",
              "    }\n",
              "\n",
              "    .dataframe tbody tr th {\n",
              "        vertical-align: top;\n",
              "    }\n",
              "\n",
              "    .dataframe thead th {\n",
              "        text-align: right;\n",
              "    }\n",
              "</style>\n",
              "<table border=\"1\" class=\"dataframe\">\n",
              "  <thead>\n",
              "    <tr style=\"text-align: right;\">\n",
              "      <th></th>\n",
              "      <th>importance</th>\n",
              "      <th>product</th>\n",
              "      <th>component</th>\n",
              "      <th>text</th>\n",
              "    </tr>\n",
              "  </thead>\n",
              "  <tbody>\n",
              "    <tr>\n",
              "      <th>0</th>\n",
              "      <td>P2 normal</td>\n",
              "      <td>IO/Storage</td>\n",
              "      <td>IDE</td>\n",
              "      <td>oops when using ide-cd with 2.5.45 and cdrecor...</td>\n",
              "    </tr>\n",
              "    <tr>\n",
              "      <th>1</th>\n",
              "      <td>P2 normal</td>\n",
              "      <td>Platform Specific/Hardware</td>\n",
              "      <td>i386</td>\n",
              "      <td>NUMA-Q hangs during TSC initialization on boot...</td>\n",
              "    </tr>\n",
              "    <tr>\n",
              "      <th>2</th>\n",
              "      <td>P2 normal</td>\n",
              "      <td>Memory Management</td>\n",
              "      <td>Other</td>\n",
              "      <td>Enabling shared pagetables causes KDE to wierd...</td>\n",
              "    </tr>\n",
              "    <tr>\n",
              "      <th>3</th>\n",
              "      <td>P2 blocking</td>\n",
              "      <td>IO/Storage</td>\n",
              "      <td>Other</td>\n",
              "      <td>Dcache spirals out of control on 2.5.43-mm2 Ex...</td>\n",
              "    </tr>\n",
              "    <tr>\n",
              "      <th>4</th>\n",
              "      <td>P2 normal</td>\n",
              "      <td>Memory Management</td>\n",
              "      <td>Other</td>\n",
              "      <td>64GB highmem BUG() Exact Kernel version: 2.5.4...</td>\n",
              "    </tr>\n",
              "  </tbody>\n",
              "</table>\n",
              "</div>"
            ],
            "text/plain": [
              "    importance  ...                                               text\n",
              "0    P2 normal  ...  oops when using ide-cd with 2.5.45 and cdrecor...\n",
              "1    P2 normal  ...  NUMA-Q hangs during TSC initialization on boot...\n",
              "2    P2 normal  ...  Enabling shared pagetables causes KDE to wierd...\n",
              "3  P2 blocking  ...  Dcache spirals out of control on 2.5.43-mm2 Ex...\n",
              "4    P2 normal  ...  64GB highmem BUG() Exact Kernel version: 2.5.4...\n",
              "\n",
              "[5 rows x 4 columns]"
            ]
          },
          "metadata": {
            "tags": []
          },
          "execution_count": 46
        }
      ]
    },
    {
      "cell_type": "code",
      "metadata": {
        "id": "knalSpfb0y_O",
        "colab_type": "code",
        "colab": {
          "base_uri": "https://localhost:8080/",
          "height": 212
        },
        "outputId": "b5f59811-6379-4cd6-c5ab-21894b55b898"
      },
      "source": [
        "def strip_punctuations(data, column_name='text'):\n",
        "  '''\n",
        "  Strips punctuations from the end of each token.\n",
        "  This uses suggestion from https://stackoverflow.com/questions/34293875/how-to-remove-punctuation-marks-from-a-string-in-python-3-x-using-translate\n",
        "  to accomplish this really fast.\n",
        "  '''\n",
        "  translator = str.maketrans('', '', string.punctuation)\n",
        "  data['text'] = data['text'].map(lambda s : str(s).translate(translator))\n",
        "  return data\n",
        "data1 = strip_punctuations(data1)\n",
        "data_top1 = data1.head()\n",
        "print(\"Chromium strip punctuations\")\n",
        "data_top1"
      ],
      "execution_count": null,
      "outputs": [
        {
          "output_type": "stream",
          "text": [
            "Chromium strip punctuations\n"
          ],
          "name": "stdout"
        },
        {
          "output_type": "execute_result",
          "data": {
            "text/html": [
              "<div>\n",
              "<style scoped>\n",
              "    .dataframe tbody tr th:only-of-type {\n",
              "        vertical-align: middle;\n",
              "    }\n",
              "\n",
              "    .dataframe tbody tr th {\n",
              "        vertical-align: top;\n",
              "    }\n",
              "\n",
              "    .dataframe thead th {\n",
              "        text-align: right;\n",
              "    }\n",
              "</style>\n",
              "<table border=\"1\" class=\"dataframe\">\n",
              "  <thead>\n",
              "    <tr style=\"text-align: right;\">\n",
              "      <th></th>\n",
              "      <th>type</th>\n",
              "      <th>text</th>\n",
              "    </tr>\n",
              "  </thead>\n",
              "  <tbody>\n",
              "    <tr>\n",
              "      <th>0</th>\n",
              "      <td>Bug</td>\n",
              "      <td>Define a way to enforce performance constraint...</td>\n",
              "    </tr>\n",
              "    <tr>\n",
              "      <th>1</th>\n",
              "      <td>Compat</td>\n",
              "      <td>Websites that dont work with Chrome Browser nC...</td>\n",
              "    </tr>\n",
              "    <tr>\n",
              "      <th>2</th>\n",
              "      <td>Bug</td>\n",
              "      <td>Redraw issuetruncation with confirmation item ...</td>\n",
              "    </tr>\n",
              "    <tr>\n",
              "      <th>3</th>\n",
              "      <td>Feature</td>\n",
              "      <td>Implement CanvasRenderingContext2D for access ...</td>\n",
              "    </tr>\n",
              "    <tr>\n",
              "      <th>4</th>\n",
              "      <td>Bug</td>\n",
              "      <td>ath9k panic in athtxlastbeacon  0x29a nToT 30 ...</td>\n",
              "    </tr>\n",
              "  </tbody>\n",
              "</table>\n",
              "</div>"
            ],
            "text/plain": [
              "      type                                               text\n",
              "0      Bug  Define a way to enforce performance constraint...\n",
              "1   Compat  Websites that dont work with Chrome Browser nC...\n",
              "2      Bug  Redraw issuetruncation with confirmation item ...\n",
              "3  Feature  Implement CanvasRenderingContext2D for access ...\n",
              "4      Bug  ath9k panic in athtxlastbeacon  0x29a nToT 30 ..."
            ]
          },
          "metadata": {
            "tags": []
          },
          "execution_count": 47
        }
      ]
    },
    {
      "cell_type": "code",
      "metadata": {
        "id": "SYN3rEq91og3",
        "colab_type": "code",
        "colab": {
          "base_uri": "https://localhost:8080/",
          "height": 212
        },
        "outputId": "a6152dee-909c-4ff7-aafe-3d8a8503e504"
      },
      "source": [
        "data2 = strip_punctuations(data2)\n",
        "data_top2 = data2.head()\n",
        "print(\"Linux strip punctuations\")\n",
        "data_top2"
      ],
      "execution_count": null,
      "outputs": [
        {
          "output_type": "stream",
          "text": [
            "Linux strip punctuations\n"
          ],
          "name": "stdout"
        },
        {
          "output_type": "execute_result",
          "data": {
            "text/html": [
              "<div>\n",
              "<style scoped>\n",
              "    .dataframe tbody tr th:only-of-type {\n",
              "        vertical-align: middle;\n",
              "    }\n",
              "\n",
              "    .dataframe tbody tr th {\n",
              "        vertical-align: top;\n",
              "    }\n",
              "\n",
              "    .dataframe thead th {\n",
              "        text-align: right;\n",
              "    }\n",
              "</style>\n",
              "<table border=\"1\" class=\"dataframe\">\n",
              "  <thead>\n",
              "    <tr style=\"text-align: right;\">\n",
              "      <th></th>\n",
              "      <th>importance</th>\n",
              "      <th>product</th>\n",
              "      <th>component</th>\n",
              "      <th>text</th>\n",
              "    </tr>\n",
              "  </thead>\n",
              "  <tbody>\n",
              "    <tr>\n",
              "      <th>0</th>\n",
              "      <td>P2 normal</td>\n",
              "      <td>IO/Storage</td>\n",
              "      <td>IDE</td>\n",
              "      <td>oops when using idecd with 2545 and cdrecord P...</td>\n",
              "    </tr>\n",
              "    <tr>\n",
              "      <th>1</th>\n",
              "      <td>P2 normal</td>\n",
              "      <td>Platform Specific/Hardware</td>\n",
              "      <td>i386</td>\n",
              "      <td>NUMAQ hangs during TSC initialization on boot ...</td>\n",
              "    </tr>\n",
              "    <tr>\n",
              "      <th>2</th>\n",
              "      <td>P2 normal</td>\n",
              "      <td>Memory Management</td>\n",
              "      <td>Other</td>\n",
              "      <td>Enabling shared pagetables causes KDE to wierd...</td>\n",
              "    </tr>\n",
              "    <tr>\n",
              "      <th>3</th>\n",
              "      <td>P2 blocking</td>\n",
              "      <td>IO/Storage</td>\n",
              "      <td>Other</td>\n",
              "      <td>Dcache spirals out of control on 2543mm2 Exact...</td>\n",
              "    </tr>\n",
              "    <tr>\n",
              "      <th>4</th>\n",
              "      <td>P2 normal</td>\n",
              "      <td>Memory Management</td>\n",
              "      <td>Other</td>\n",
              "      <td>64GB highmem BUG Exact Kernel version 2540 Har...</td>\n",
              "    </tr>\n",
              "  </tbody>\n",
              "</table>\n",
              "</div>"
            ],
            "text/plain": [
              "    importance  ...                                               text\n",
              "0    P2 normal  ...  oops when using idecd with 2545 and cdrecord P...\n",
              "1    P2 normal  ...  NUMAQ hangs during TSC initialization on boot ...\n",
              "2    P2 normal  ...  Enabling shared pagetables causes KDE to wierd...\n",
              "3  P2 blocking  ...  Dcache spirals out of control on 2543mm2 Exact...\n",
              "4    P2 normal  ...  64GB highmem BUG Exact Kernel version 2540 Har...\n",
              "\n",
              "[5 rows x 4 columns]"
            ]
          },
          "metadata": {
            "tags": []
          },
          "execution_count": 48
        }
      ]
    },
    {
      "cell_type": "code",
      "metadata": {
        "id": "1Sm1_0af1wwD",
        "colab_type": "code",
        "colab": {
          "base_uri": "https://localhost:8080/",
          "height": 212
        },
        "outputId": "80bf27fb-40c1-4f62-a588-c365c1975371"
      },
      "source": [
        "def remove_linux_garbage(data):\n",
        "  '''\n",
        "  Linux data contains lots of garbage, e.g. memory addresses - 0000f800\n",
        "  '''\n",
        "  def is_garbage(w):\n",
        "    return len(w) >= 7 and sum(c.isdigit() for c in w) >= 2\n",
        "\n",
        "  data['text'] = data['text'].map(lambda s : ' '.join(map(lambda w: w if not is_garbage(w) else ' ', s.split())))\n",
        "  return data\n",
        "data = remove_linux_garbage(data2)\n",
        "data_top2 = data2.head()\n",
        "print(\"Remove linux garbage\")\n",
        "data_top2"
      ],
      "execution_count": null,
      "outputs": [
        {
          "output_type": "stream",
          "text": [
            "Remove linux garbage\n"
          ],
          "name": "stdout"
        },
        {
          "output_type": "execute_result",
          "data": {
            "text/html": [
              "<div>\n",
              "<style scoped>\n",
              "    .dataframe tbody tr th:only-of-type {\n",
              "        vertical-align: middle;\n",
              "    }\n",
              "\n",
              "    .dataframe tbody tr th {\n",
              "        vertical-align: top;\n",
              "    }\n",
              "\n",
              "    .dataframe thead th {\n",
              "        text-align: right;\n",
              "    }\n",
              "</style>\n",
              "<table border=\"1\" class=\"dataframe\">\n",
              "  <thead>\n",
              "    <tr style=\"text-align: right;\">\n",
              "      <th></th>\n",
              "      <th>importance</th>\n",
              "      <th>product</th>\n",
              "      <th>component</th>\n",
              "      <th>text</th>\n",
              "    </tr>\n",
              "  </thead>\n",
              "  <tbody>\n",
              "    <tr>\n",
              "      <th>0</th>\n",
              "      <td>P2 normal</td>\n",
              "      <td>IO/Storage</td>\n",
              "      <td>IDE</td>\n",
              "      <td>oops when using idecd with 2545 and cdrecord P...</td>\n",
              "    </tr>\n",
              "    <tr>\n",
              "      <th>1</th>\n",
              "      <td>P2 normal</td>\n",
              "      <td>Platform Specific/Hardware</td>\n",
              "      <td>i386</td>\n",
              "      <td>NUMAQ hangs during TSC initialization on boot ...</td>\n",
              "    </tr>\n",
              "    <tr>\n",
              "      <th>2</th>\n",
              "      <td>P2 normal</td>\n",
              "      <td>Memory Management</td>\n",
              "      <td>Other</td>\n",
              "      <td>Enabling shared pagetables causes KDE to wierd...</td>\n",
              "    </tr>\n",
              "    <tr>\n",
              "      <th>3</th>\n",
              "      <td>P2 blocking</td>\n",
              "      <td>IO/Storage</td>\n",
              "      <td>Other</td>\n",
              "      <td>Dcache spirals out of control on   Exact Kerne...</td>\n",
              "    </tr>\n",
              "    <tr>\n",
              "      <th>4</th>\n",
              "      <td>P2 normal</td>\n",
              "      <td>Memory Management</td>\n",
              "      <td>Other</td>\n",
              "      <td>64GB highmem BUG Exact Kernel version 2540 Har...</td>\n",
              "    </tr>\n",
              "  </tbody>\n",
              "</table>\n",
              "</div>"
            ],
            "text/plain": [
              "    importance  ...                                               text\n",
              "0    P2 normal  ...  oops when using idecd with 2545 and cdrecord P...\n",
              "1    P2 normal  ...  NUMAQ hangs during TSC initialization on boot ...\n",
              "2    P2 normal  ...  Enabling shared pagetables causes KDE to wierd...\n",
              "3  P2 blocking  ...  Dcache spirals out of control on   Exact Kerne...\n",
              "4    P2 normal  ...  64GB highmem BUG Exact Kernel version 2540 Har...\n",
              "\n",
              "[5 rows x 4 columns]"
            ]
          },
          "metadata": {
            "tags": []
          },
          "execution_count": 49
        }
      ]
    },
    {
      "cell_type": "code",
      "metadata": {
        "id": "Q5RKcfm_73vX",
        "colab_type": "code",
        "colab": {
          "base_uri": "https://localhost:8080/",
          "height": 212
        },
        "outputId": "c394ce1b-0cb3-4208-9c7d-9fd87f4c1bd2"
      },
      "source": [
        "def cast_to_lowercase(data):\n",
        "  data['text'] = data['text'].map(lambda s : s.lower())\n",
        "  return data\n",
        "data1 = cast_to_lowercase(data1)\n",
        "data_top1 = data1.head()\n",
        "print(\"Chromium Lowercase\")\n",
        "data_top1"
      ],
      "execution_count": null,
      "outputs": [
        {
          "output_type": "stream",
          "text": [
            "Chromium Lowercase\n"
          ],
          "name": "stdout"
        },
        {
          "output_type": "execute_result",
          "data": {
            "text/html": [
              "<div>\n",
              "<style scoped>\n",
              "    .dataframe tbody tr th:only-of-type {\n",
              "        vertical-align: middle;\n",
              "    }\n",
              "\n",
              "    .dataframe tbody tr th {\n",
              "        vertical-align: top;\n",
              "    }\n",
              "\n",
              "    .dataframe thead th {\n",
              "        text-align: right;\n",
              "    }\n",
              "</style>\n",
              "<table border=\"1\" class=\"dataframe\">\n",
              "  <thead>\n",
              "    <tr style=\"text-align: right;\">\n",
              "      <th></th>\n",
              "      <th>type</th>\n",
              "      <th>text</th>\n",
              "    </tr>\n",
              "  </thead>\n",
              "  <tbody>\n",
              "    <tr>\n",
              "      <th>0</th>\n",
              "      <td>Bug</td>\n",
              "      <td>define a way to enforce performance constraint...</td>\n",
              "    </tr>\n",
              "    <tr>\n",
              "      <th>1</th>\n",
              "      <td>Compat</td>\n",
              "      <td>websites that dont work with chrome browser nc...</td>\n",
              "    </tr>\n",
              "    <tr>\n",
              "      <th>2</th>\n",
              "      <td>Bug</td>\n",
              "      <td>redraw issuetruncation with confirmation item ...</td>\n",
              "    </tr>\n",
              "    <tr>\n",
              "      <th>3</th>\n",
              "      <td>Feature</td>\n",
              "      <td>implement canvasrenderingcontext2d for access ...</td>\n",
              "    </tr>\n",
              "    <tr>\n",
              "      <th>4</th>\n",
              "      <td>Bug</td>\n",
              "      <td>ath9k panic in athtxlastbeacon  0x29a ntot 30 ...</td>\n",
              "    </tr>\n",
              "  </tbody>\n",
              "</table>\n",
              "</div>"
            ],
            "text/plain": [
              "      type                                               text\n",
              "0      Bug  define a way to enforce performance constraint...\n",
              "1   Compat  websites that dont work with chrome browser nc...\n",
              "2      Bug  redraw issuetruncation with confirmation item ...\n",
              "3  Feature  implement canvasrenderingcontext2d for access ...\n",
              "4      Bug  ath9k panic in athtxlastbeacon  0x29a ntot 30 ..."
            ]
          },
          "metadata": {
            "tags": []
          },
          "execution_count": 50
        }
      ]
    },
    {
      "cell_type": "code",
      "metadata": {
        "id": "8S8-uCI592ld",
        "colab_type": "code",
        "colab": {
          "base_uri": "https://localhost:8080/",
          "height": 212
        },
        "outputId": "60c60f3b-d7f3-448a-f0e6-24595ba67dd5"
      },
      "source": [
        "data2 = cast_to_lowercase(data2)\n",
        "data_top2 = data2.head()\n",
        "print(\"Linux Lowercase\")\n",
        "data_top2"
      ],
      "execution_count": null,
      "outputs": [
        {
          "output_type": "stream",
          "text": [
            "Linux Lowercase\n"
          ],
          "name": "stdout"
        },
        {
          "output_type": "execute_result",
          "data": {
            "text/html": [
              "<div>\n",
              "<style scoped>\n",
              "    .dataframe tbody tr th:only-of-type {\n",
              "        vertical-align: middle;\n",
              "    }\n",
              "\n",
              "    .dataframe tbody tr th {\n",
              "        vertical-align: top;\n",
              "    }\n",
              "\n",
              "    .dataframe thead th {\n",
              "        text-align: right;\n",
              "    }\n",
              "</style>\n",
              "<table border=\"1\" class=\"dataframe\">\n",
              "  <thead>\n",
              "    <tr style=\"text-align: right;\">\n",
              "      <th></th>\n",
              "      <th>importance</th>\n",
              "      <th>product</th>\n",
              "      <th>component</th>\n",
              "      <th>text</th>\n",
              "    </tr>\n",
              "  </thead>\n",
              "  <tbody>\n",
              "    <tr>\n",
              "      <th>0</th>\n",
              "      <td>P2 normal</td>\n",
              "      <td>IO/Storage</td>\n",
              "      <td>IDE</td>\n",
              "      <td>oops when using idecd with 2545 and cdrecord p...</td>\n",
              "    </tr>\n",
              "    <tr>\n",
              "      <th>1</th>\n",
              "      <td>P2 normal</td>\n",
              "      <td>Platform Specific/Hardware</td>\n",
              "      <td>i386</td>\n",
              "      <td>numaq hangs during tsc initialization on boot ...</td>\n",
              "    </tr>\n",
              "    <tr>\n",
              "      <th>2</th>\n",
              "      <td>P2 normal</td>\n",
              "      <td>Memory Management</td>\n",
              "      <td>Other</td>\n",
              "      <td>enabling shared pagetables causes kde to wierd...</td>\n",
              "    </tr>\n",
              "    <tr>\n",
              "      <th>3</th>\n",
              "      <td>P2 blocking</td>\n",
              "      <td>IO/Storage</td>\n",
              "      <td>Other</td>\n",
              "      <td>dcache spirals out of control on   exact kerne...</td>\n",
              "    </tr>\n",
              "    <tr>\n",
              "      <th>4</th>\n",
              "      <td>P2 normal</td>\n",
              "      <td>Memory Management</td>\n",
              "      <td>Other</td>\n",
              "      <td>64gb highmem bug exact kernel version 2540 har...</td>\n",
              "    </tr>\n",
              "  </tbody>\n",
              "</table>\n",
              "</div>"
            ],
            "text/plain": [
              "    importance  ...                                               text\n",
              "0    P2 normal  ...  oops when using idecd with 2545 and cdrecord p...\n",
              "1    P2 normal  ...  numaq hangs during tsc initialization on boot ...\n",
              "2    P2 normal  ...  enabling shared pagetables causes kde to wierd...\n",
              "3  P2 blocking  ...  dcache spirals out of control on   exact kerne...\n",
              "4    P2 normal  ...  64gb highmem bug exact kernel version 2540 har...\n",
              "\n",
              "[5 rows x 4 columns]"
            ]
          },
          "metadata": {
            "tags": []
          },
          "execution_count": 51
        }
      ]
    },
    {
      "cell_type": "code",
      "metadata": {
        "id": "3A2rDzOo75Go",
        "colab_type": "code",
        "colab": {
          "base_uri": "https://localhost:8080/",
          "height": 212
        },
        "outputId": "e93a9ed9-989a-4918-ece6-f6cc06d16136"
      },
      "source": [
        "def remove_stopwords(data):\n",
        "  stop_words = stopwords.words('english')\n",
        "  translator = str.maketrans('', '', string.punctuation)\n",
        "  stop_words = set([w.translate(translator) for w in stop_words]) # Apostrophes were removed already\n",
        "\n",
        "  data['text'] = data['text'].map(lambda s : ' '.join(map(lambda w: w if w not in stop_words else ' ', s.split())))\n",
        "  return data\n",
        "data1 = remove_stopwords(data1)\n",
        "data_top1 = data1.head()\n",
        "print(\"Chromium Stopword\")\n",
        "data_top1"
      ],
      "execution_count": null,
      "outputs": [
        {
          "output_type": "stream",
          "text": [
            "Chromium Stopword\n"
          ],
          "name": "stdout"
        },
        {
          "output_type": "execute_result",
          "data": {
            "text/html": [
              "<div>\n",
              "<style scoped>\n",
              "    .dataframe tbody tr th:only-of-type {\n",
              "        vertical-align: middle;\n",
              "    }\n",
              "\n",
              "    .dataframe tbody tr th {\n",
              "        vertical-align: top;\n",
              "    }\n",
              "\n",
              "    .dataframe thead th {\n",
              "        text-align: right;\n",
              "    }\n",
              "</style>\n",
              "<table border=\"1\" class=\"dataframe\">\n",
              "  <thead>\n",
              "    <tr style=\"text-align: right;\">\n",
              "      <th></th>\n",
              "      <th>type</th>\n",
              "      <th>text</th>\n",
              "    </tr>\n",
              "  </thead>\n",
              "  <tbody>\n",
              "    <tr>\n",
              "      <th>0</th>\n",
              "      <td>Bug</td>\n",
              "      <td>define   way   enforce performance constraint ...</td>\n",
              "    </tr>\n",
              "    <tr>\n",
              "      <th>1</th>\n",
              "      <td>Compat</td>\n",
              "      <td>websites     work   chrome browser nchrome ver...</td>\n",
              "    </tr>\n",
              "    <tr>\n",
              "      <th>2</th>\n",
              "      <td>Bug</td>\n",
              "      <td>redraw issuetruncation   confirmation item   d...</td>\n",
              "    </tr>\n",
              "    <tr>\n",
              "      <th>3</th>\n",
              "      <td>Feature</td>\n",
              "      <td>implement canvasrenderingcontext2d   access   ...</td>\n",
              "    </tr>\n",
              "    <tr>\n",
              "      <th>4</th>\n",
              "      <td>Bug</td>\n",
              "      <td>ath9k panic   athtxlastbeacon 0x29a ntot 30 ke...</td>\n",
              "    </tr>\n",
              "  </tbody>\n",
              "</table>\n",
              "</div>"
            ],
            "text/plain": [
              "      type                                               text\n",
              "0      Bug  define   way   enforce performance constraint ...\n",
              "1   Compat  websites     work   chrome browser nchrome ver...\n",
              "2      Bug  redraw issuetruncation   confirmation item   d...\n",
              "3  Feature  implement canvasrenderingcontext2d   access   ...\n",
              "4      Bug  ath9k panic   athtxlastbeacon 0x29a ntot 30 ke..."
            ]
          },
          "metadata": {
            "tags": []
          },
          "execution_count": 52
        }
      ]
    },
    {
      "cell_type": "code",
      "metadata": {
        "id": "KQd7GmvG9-Tu",
        "colab_type": "code",
        "colab": {
          "base_uri": "https://localhost:8080/",
          "height": 212
        },
        "outputId": "fd0b9d27-98e3-4950-8bf1-0c9bd8097d69"
      },
      "source": [
        "data2 = remove_stopwords(data2)\n",
        "data_top2 = data2.head()\n",
        "print(\"Linux Stopword\")\n",
        "data_top2"
      ],
      "execution_count": null,
      "outputs": [
        {
          "output_type": "stream",
          "text": [
            "Linux Stopword\n"
          ],
          "name": "stdout"
        },
        {
          "output_type": "execute_result",
          "data": {
            "text/html": [
              "<div>\n",
              "<style scoped>\n",
              "    .dataframe tbody tr th:only-of-type {\n",
              "        vertical-align: middle;\n",
              "    }\n",
              "\n",
              "    .dataframe tbody tr th {\n",
              "        vertical-align: top;\n",
              "    }\n",
              "\n",
              "    .dataframe thead th {\n",
              "        text-align: right;\n",
              "    }\n",
              "</style>\n",
              "<table border=\"1\" class=\"dataframe\">\n",
              "  <thead>\n",
              "    <tr style=\"text-align: right;\">\n",
              "      <th></th>\n",
              "      <th>importance</th>\n",
              "      <th>product</th>\n",
              "      <th>component</th>\n",
              "      <th>text</th>\n",
              "    </tr>\n",
              "  </thead>\n",
              "  <tbody>\n",
              "    <tr>\n",
              "      <th>0</th>\n",
              "      <td>P2 normal</td>\n",
              "      <td>IO/Storage</td>\n",
              "      <td>IDE</td>\n",
              "      <td>oops   using idecd   2545   cdrecord please en...</td>\n",
              "    </tr>\n",
              "    <tr>\n",
              "      <th>1</th>\n",
              "      <td>P2 normal</td>\n",
              "      <td>Platform Specific/Hardware</td>\n",
              "      <td>i386</td>\n",
              "      <td>numaq hangs   tsc initialization   boot exact ...</td>\n",
              "    </tr>\n",
              "    <tr>\n",
              "      <th>2</th>\n",
              "      <td>P2 normal</td>\n",
              "      <td>Memory Management</td>\n",
              "      <td>Other</td>\n",
              "      <td>enabling shared pagetables causes kde   wierd ...</td>\n",
              "    </tr>\n",
              "    <tr>\n",
              "      <th>3</th>\n",
              "      <td>P2 blocking</td>\n",
              "      <td>IO/Storage</td>\n",
              "      <td>Other</td>\n",
              "      <td>dcache spirals     control   exact kernel vers...</td>\n",
              "    </tr>\n",
              "    <tr>\n",
              "      <th>4</th>\n",
              "      <td>P2 normal</td>\n",
              "      <td>Memory Management</td>\n",
              "      <td>Other</td>\n",
              "      <td>64gb highmem bug exact kernel version 2540 har...</td>\n",
              "    </tr>\n",
              "  </tbody>\n",
              "</table>\n",
              "</div>"
            ],
            "text/plain": [
              "    importance  ...                                               text\n",
              "0    P2 normal  ...  oops   using idecd   2545   cdrecord please en...\n",
              "1    P2 normal  ...  numaq hangs   tsc initialization   boot exact ...\n",
              "2    P2 normal  ...  enabling shared pagetables causes kde   wierd ...\n",
              "3  P2 blocking  ...  dcache spirals     control   exact kernel vers...\n",
              "4    P2 normal  ...  64gb highmem bug exact kernel version 2540 har...\n",
              "\n",
              "[5 rows x 4 columns]"
            ]
          },
          "metadata": {
            "tags": []
          },
          "execution_count": 53
        }
      ]
    },
    {
      "cell_type": "code",
      "metadata": {
        "id": "7_-eFCVq77mJ",
        "colab_type": "code",
        "colab": {
          "base_uri": "https://localhost:8080/",
          "height": 212
        },
        "outputId": "474f961a-e490-4ce1-af42-317a0aa15d38"
      },
      "source": [
        "def remove_rare_words(data, min_count=3):\n",
        "  wc = {} # WordCount\n",
        "  def proc_word(s):\n",
        "    for w in set(s.split()):\n",
        "      if w in wc:\n",
        "        wc[w] += 1\n",
        "      else:\n",
        "        wc[w] = 1\n",
        "\n",
        "  for index, row in data.iterrows():\n",
        "    proc_word(row['text'])\n",
        "\n",
        "  data['text'] = data['text'].map(lambda s : ' '.join(map(lambda w: w if wc[w] >= min_count else ' ', s.split())))\n",
        "  return data\n",
        "data1 = remove_rare_words(data1)\n",
        "data_top1 = data1.head()\n",
        "print(\"Chromium rare words\")\n",
        "data_top1"
      ],
      "execution_count": null,
      "outputs": [
        {
          "output_type": "stream",
          "text": [
            "Chromium rare words\n"
          ],
          "name": "stdout"
        },
        {
          "output_type": "execute_result",
          "data": {
            "text/html": [
              "<div>\n",
              "<style scoped>\n",
              "    .dataframe tbody tr th:only-of-type {\n",
              "        vertical-align: middle;\n",
              "    }\n",
              "\n",
              "    .dataframe tbody tr th {\n",
              "        vertical-align: top;\n",
              "    }\n",
              "\n",
              "    .dataframe thead th {\n",
              "        text-align: right;\n",
              "    }\n",
              "</style>\n",
              "<table border=\"1\" class=\"dataframe\">\n",
              "  <thead>\n",
              "    <tr style=\"text-align: right;\">\n",
              "      <th></th>\n",
              "      <th>type</th>\n",
              "      <th>text</th>\n",
              "    </tr>\n",
              "  </thead>\n",
              "  <tbody>\n",
              "    <tr>\n",
              "      <th>0</th>\n",
              "      <td>Bug</td>\n",
              "      <td>define way enforce performance constraint spec...</td>\n",
              "    </tr>\n",
              "    <tr>\n",
              "      <th>1</th>\n",
              "      <td>Compat</td>\n",
              "      <td>websites work chrome browser nchrome version  ...</td>\n",
              "    </tr>\n",
              "    <tr>\n",
              "      <th>2</th>\n",
              "      <td>Bug</td>\n",
              "      <td>redraw   confirmation item download bar nchrom...</td>\n",
              "    </tr>\n",
              "    <tr>\n",
              "      <th>3</th>\n",
              "      <td>Feature</td>\n",
              "      <td>implement canvasrenderingcontext2d access work...</td>\n",
              "    </tr>\n",
              "    <tr>\n",
              "      <th>4</th>\n",
              "      <td>Bug</td>\n",
              "      <td>ath9k panic     ntot 30 kernel   resume associ...</td>\n",
              "    </tr>\n",
              "  </tbody>\n",
              "</table>\n",
              "</div>"
            ],
            "text/plain": [
              "      type                                               text\n",
              "0      Bug  define way enforce performance constraint spec...\n",
              "1   Compat  websites work chrome browser nchrome version  ...\n",
              "2      Bug  redraw   confirmation item download bar nchrom...\n",
              "3  Feature  implement canvasrenderingcontext2d access work...\n",
              "4      Bug  ath9k panic     ntot 30 kernel   resume associ..."
            ]
          },
          "metadata": {
            "tags": []
          },
          "execution_count": 54
        }
      ]
    },
    {
      "cell_type": "code",
      "metadata": {
        "id": "lzD8ivdv-FtH",
        "colab_type": "code",
        "colab": {
          "base_uri": "https://localhost:8080/",
          "height": 212
        },
        "outputId": "c693fe75-d828-4c80-d7c7-312fc781bf36"
      },
      "source": [
        "data2 = remove_rare_words(data2)\n",
        "data_top2 = data2.head()\n",
        "print(\"Linux rare words\")\n",
        "data_top2"
      ],
      "execution_count": null,
      "outputs": [
        {
          "output_type": "stream",
          "text": [
            "Linux rare words\n"
          ],
          "name": "stdout"
        },
        {
          "output_type": "execute_result",
          "data": {
            "text/html": [
              "<div>\n",
              "<style scoped>\n",
              "    .dataframe tbody tr th:only-of-type {\n",
              "        vertical-align: middle;\n",
              "    }\n",
              "\n",
              "    .dataframe tbody tr th {\n",
              "        vertical-align: top;\n",
              "    }\n",
              "\n",
              "    .dataframe thead th {\n",
              "        text-align: right;\n",
              "    }\n",
              "</style>\n",
              "<table border=\"1\" class=\"dataframe\">\n",
              "  <thead>\n",
              "    <tr style=\"text-align: right;\">\n",
              "      <th></th>\n",
              "      <th>importance</th>\n",
              "      <th>product</th>\n",
              "      <th>component</th>\n",
              "      <th>text</th>\n",
              "    </tr>\n",
              "  </thead>\n",
              "  <tbody>\n",
              "    <tr>\n",
              "      <th>0</th>\n",
              "      <td>P2 normal</td>\n",
              "      <td>IO/Storage</td>\n",
              "      <td>IDE</td>\n",
              "      <td>oops using idecd 2545 cdrecord please enter ex...</td>\n",
              "    </tr>\n",
              "    <tr>\n",
              "      <th>1</th>\n",
              "      <td>P2 normal</td>\n",
              "      <td>Platform Specific/Hardware</td>\n",
              "      <td>i386</td>\n",
              "      <td>numaq hangs tsc initialization boot exact kern...</td>\n",
              "    </tr>\n",
              "    <tr>\n",
              "      <th>2</th>\n",
              "      <td>P2 normal</td>\n",
              "      <td>Memory Management</td>\n",
              "      <td>Other</td>\n",
              "      <td>enabling shared pagetables causes kde wierd ex...</td>\n",
              "    </tr>\n",
              "    <tr>\n",
              "      <th>3</th>\n",
              "      <td>P2 blocking</td>\n",
              "      <td>IO/Storage</td>\n",
              "      <td>Other</td>\n",
              "      <td>dcache   control exact kernel version distribu...</td>\n",
              "    </tr>\n",
              "    <tr>\n",
              "      <th>4</th>\n",
              "      <td>P2 normal</td>\n",
              "      <td>Memory Management</td>\n",
              "      <td>Other</td>\n",
              "      <td>64gb highmem bug exact kernel version 2540 har...</td>\n",
              "    </tr>\n",
              "  </tbody>\n",
              "</table>\n",
              "</div>"
            ],
            "text/plain": [
              "    importance  ...                                               text\n",
              "0    P2 normal  ...  oops using idecd 2545 cdrecord please enter ex...\n",
              "1    P2 normal  ...  numaq hangs tsc initialization boot exact kern...\n",
              "2    P2 normal  ...  enabling shared pagetables causes kde wierd ex...\n",
              "3  P2 blocking  ...  dcache   control exact kernel version distribu...\n",
              "4    P2 normal  ...  64gb highmem bug exact kernel version 2540 har...\n",
              "\n",
              "[5 rows x 4 columns]"
            ]
          },
          "metadata": {
            "tags": []
          },
          "execution_count": 55
        }
      ]
    }
  ]
}